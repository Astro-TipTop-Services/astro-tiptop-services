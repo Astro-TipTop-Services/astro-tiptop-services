{
 "cells": [
  {
   "cell_type": "markdown",
   "id": "fd8b6a64",
   "metadata": {},
   "source": [
    "# TipTop — Papyrus Tutorial\n",
    "\n",
    "**Objective:** Build a TipTop parameter file for the *Papyrus* system, verify key optical/AO quantities, and run PSF simulations.\n",
    "\n",
    "> This notebook is organized in short steps with **TODO** cells for you to complete."
   ]
  },
  {
   "cell_type": "markdown",
   "metadata": {},
   "source": [
    "## Prerequisites\n",
    "\n",
    "- Python 3.11+ recommended\n",
    "- Packages: `tiptop v.1.3.29`, `astropy`, `matplotlib`, `numpy`\n",
    "- Basic knowledge: r₀, seeing, λ/D, SR, FWHM.\n",
    "- **Papyrus base INI file** (starter parameter set) — download [here](https://astro-tiptop-services.github.io/astro-tiptop-services/resources/AO_school)\n"
   ]
  },
  {
   "cell_type": "markdown",
   "metadata": {},
   "source": [
    "## Notebook structure\n",
    "1. Overview of required parameter file sections.\n",
    "2. Create a `papyrus.ini` skeleton 👉 Complete the TODOs.\n",
    "3. Quick exercise: diffraction-limited resolution.\n",
    "4. Run TipTop with Papyrus parameters.\n",
    "5. Error Budget Mini-Exercises\n",
    "\n",
    "---\n"
   ]
  },
  {
   "cell_type": "markdown",
   "metadata": {},
   "source": [
    "## 1) Minimum Required Sections\n",
    "\n",
    "Regardless of the AO architecture, every configuration starts with the **telescope** and the **atmosphere**.\n",
    "\n",
    "### Always required\n",
    "- **`[telescope]`**  \n",
    "  - `TelescopeDiameter` *(m)*\n",
    "  - Optional: `Resolution` *(pixels across the pupil)*, `ObscurationRatio`, `ZenithAngle`\n",
    "- **`[atmosphere]`**  \n",
    "  - Provide **either** `Seeing` *(arcsec)* **or** `r0_Value` (m)  \n",
    "  - Optional: `Wavelength` (reference λ for the above, default _@500nm_), `L0`, `Cn2Weights`, `Cn2Heights`, `WindSpeed`,`WindDirection`\n",
    "\n",
    "- **`[sources_science]`** *(your science target)*  \n",
    "  - `Wavelength` (scalar or list in meters)  \n",
    "  - Optional: `Zenith`, `Azimuth` (default 0 if omitted)\n",
    "\n",
    "- **`[sensor_science]`** *(image formation / detector sampling)*  \n",
    "  - `PixelScale` *(mas/pixel)*  \n",
    "  - `FieldOfView` *(pixel/spaxel)*\n",
    "\n",
    "### AO modules (conditional)\n",
    "**High-Order (HO) with a Natural Guide Star (NGS) — SCAO**  \n",
    "  If you use a single NGS for wavefront sensing:\n",
    "  - **`[sources_HO]`** (the guide star properties; typically wavelength/position)\n",
    "  - **`[sensor_HO]`** (the WFS configuration; e.g., `WfsType='pyramid'`, `NumberPhotons`, `SigmaRON`, etc.)\n",
    "  - **`[DM]`** (deformable mirror geometry; e.g., `NumberActuators`, `DmPitchs`, `DmHeights`)\n",
    "  - **`[RTC]`** (control loop; e.g., `LoopGain_HO`, `SensorFrameRate_HO`, `LoopDelaySteps_HO`)\n",
    "\n",
    "> **Rule of thumb:** if you define any `sources_*` block for sensing, you **must** also define the matching `sensor_*` block (and vice-versa).\n",
    "\n",
    "---\n",
    "\n",
    "### Minimal SCAO (NGS) checklist\n",
    "- `[telescope]` with `TelescopeDiameter` \n",
    "- `[atmosphere]` with **either** `Seeing` **or** `r0_Value` \n",
    "- `[sources_science]` with your science `Wavelength`(s)  \n",
    "- `[sensor_science]` with `PixelScale`  \n",
    "- `[sources_HO]` **and** `[sensor_HO]` (NGS + WFS settings)  \n",
    "- `[DM]` (actuator layout)  \n",
    "- `[RTC]` (loop gain, frame rate, delay)\n",
    "\n",
    "---\n"
   ]
  },
  {
   "cell_type": "markdown",
   "metadata": {},
   "source": [
    "## 2) Skeleton `papyrus.ini` file\n",
    "👉 [Download it](https://astro-tiptop-services.github.io/astro-tiptop-services/resources/AO_school) and Open it and fill the `TODO`.\n",
    "\n",
    "💡**Need help?**  \n",
    "- TIPTOP How to set up: https://astro-tiptop-services.github.io/astro-tiptop-services/docs/orion/howtosetup  \n",
    "- Parameter files reference: https://astro-tiptop-services.github.io/astro-tiptop-services/docs/orion/parameterfiles"
   ]
  },
  {
   "cell_type": "markdown",
   "metadata": {},
   "source": [
    "## 3) Exercise — Diffraction-limited Resolution \n",
    "\n",
    "Compute the diffraction-limited FWHM (approx. in arcseconds) for:\n",
    "\n",
    "- the NGS/HO at 790 nm (I-band)\n",
    "- the science object at 2179 nm (K-band)\n",
    "\n",
    "_Indicative formula for an unobstructed circular pupil: `θ≈1.03λ/D` (in radians) → convert to arcseconds._\n",
    "\n",
    "Given your detector pixel scale (mas/pixel), does it satisfy the Nyquist criterion at both wavelengths? <br/>\n",
    "_(Hint: Nyquist requires ≥2 pixels per FWHM; i.e. pixel scale ≤ FWHM/2)._"
   ]
  },
  {
   "cell_type": "code",
   "execution_count": null,
   "metadata": {
    "execution": {
     "iopub.status.busy": false
    }
   },
   "outputs": [],
   "source": [
    "\n",
    "import numpy as np\n",
    "\n",
    "# Set your telescope diameter in meters\n",
    "D = TODO # 👈\n",
    "\n",
    "lambda_ngs = TODO  # 👈\n",
    "lambda_src = TODO  # 👈\n",
    "\n",
    "K = 1.03 * 206265  # rad -> arcsec with 1.22*lambda/D\n",
    "\n",
    "theta_ngs_arcsec = K * lambda_ngs / D\n",
    "theta_src_arcsec = K * lambda_src / D\n",
    "\n",
    "print(f\"Diffraction-limited FWHM @790 nm:  {theta_ngs_arcsec:.6f} arcsec ({theta_ngs_arcsec*1e3:.2f} mas)\")\n",
    "print(f\"Diffraction-limited FWHM @2179 nm: {theta_src_arcsec:.6f} arcsec ({theta_src_arcsec*1e3:.2f} mas)\")\n"
   ]
  },
  {
   "cell_type": "markdown",
   "metadata": {},
   "source": [
    "## 4) Run TipTop with PAPYRUS parameters\n",
    "\n",
    "\n"
   ]
  },
  {
   "cell_type": "markdown",
   "id": "01182254",
   "metadata": {},
   "source": [
    "### A) Imports"
   ]
  },
  {
   "cell_type": "code",
   "execution_count": 2,
   "metadata": {
    "execution": {
     "iopub.status.busy": false
    }
   },
   "outputs": [
    {
     "name": "stdout",
     "output_type": "stream",
     "text": [
      "Cupy import successfull. Installed version is: 13.4.1\n",
      "Cupy import successfull. Installed version is: 13.4.1\n",
      "Cupy import successfull. Installed version is: 13.4.1\n"
     ]
    }
   ],
   "source": [
    "from tiptop.tiptop import *\n",
    "from astropy.io import fits\n",
    "import matplotlib.pyplot as plt\n",
    "from matplotlib.colors import LogNorm\n",
    "from matplotlib.patches import Circle\n",
    "import numpy as np"
   ]
  },
  {
   "cell_type": "markdown",
   "id": "c6dffedf",
   "metadata": {},
   "source": [
    "### B) Define paths and filenames\n",
    "\n",
    "- `path_in` : folder containing your `.ini` parameter file\n",
    "- `path_out` : output folder (must exist or be creatable)\n",
    "- `file_in` : base name (without extension) of the `.ini` file\n",
    "- `file_out` : prefix for output files"
   ]
  },
  {
   "cell_type": "code",
   "execution_count": 3,
   "id": "ed74f62f",
   "metadata": {},
   "outputs": [
    {
     "name": "stdout",
     "output_type": "stream",
     "text": [
      "path_in : ./\n",
      "path_out: ./\n",
      "file_in : papyrus_IR\n",
      "file_out: papyrus_IR\n"
     ]
    }
   ],
   "source": [
    "# %% Path configuration \n",
    "path_in = './'            # 👈 adapt to your setup\n",
    "path_out = './'          # 👈 adapt to your setup\n",
    "file_in = \"papyrus_IR\"       # without .ini extension\n",
    "file_out = \"papyrus_IR\"  # output prefix\n",
    "\n",
    "# Create output folder if needed\n",
    "os.makedirs(path_out, exist_ok=True)\n",
    "\n",
    "print(\"path_in :\", path_in)\n",
    "print(\"path_out:\", path_out)\n",
    "print(\"file_in :\", file_in)\n",
    "print(\"file_out:\", file_out)"
   ]
  },
  {
   "cell_type": "markdown",
   "id": "dd1ba106",
   "metadata": {},
   "source": [
    "### C) Run TIPTOP simulation\n",
    "\n",
    "`tiptop.overallSimulation` runs a complete TipTop simulation based on an input parameter file. The function accepts several optional arguments to enable or disable specific features and select desired outputs.\n",
    "Click [here](https://astro-tiptop-services.github.io/astro-tiptop-services/docs/orion/howtosetuplaunchfile#overallSimulation) to access to the overallSimulation function documentation."
   ]
  },
  {
   "cell_type": "code",
   "execution_count": null,
   "id": "7766edb3",
   "metadata": {},
   "outputs": [],
   "source": [
    "overallSimulation(path_in, file_in, path_out, file_out, verbose=True, getHoErrorBreakDown=True)\n",
    "print(\"✅ Simulation complete\")"
   ]
  },
  {
   "cell_type": "markdown",
   "id": "af08f715",
   "metadata": {},
   "source": [
    "### D) Open the output FITS and extract data\n",
    "\n",
    "We extract:\n",
    "- **AO-corrected PSF** (HDU 1)\n",
    "- **Seeing-limited PSF** (HDU 2)\n",
    "- **Diffraction-limited PSF** (HDU 3)\n",
    "- **Radial profiles** (HDU 4 or 5 depending on save options)\n",
    "- Useful metadata from the FITS header (wavelength, pixel scale, Strehl, FWHM)\n",
    "\n",
    "Click [here](https://astro-tiptop-services.github.io/astro-tiptop-services/docs/orion/howtosetuplaunchfile#simulation_output) to the simulation output documentation.\n"
   ]
  },
  {
   "cell_type": "code",
   "execution_count": null,
   "id": "9ba59987",
   "metadata": {},
   "outputs": [],
   "source": [
    "# %% Open FITS file\n",
    "fits_path = os.path.join(path_out, file_out + \".fits\")\n",
    "print(\"Reading:\", fits_path)\n",
    "\n",
    "ao = aoSystem(f\"{path_in}{file_in}.ini\")\n",
    "\n",
    "with fits.open(fits_path) as hdul:\n",
    "    hdul.info()\n",
    "\n",
    "    psf_ao   = hdul[1].data[0, ...]  # AO-corrected\n",
    "    psf_turb = hdul[2].data          # seeing-limited\n",
    "    psf_dl   = hdul[3].data          # diffraction-limited\n",
    "\n",
    "    # Profiles (HDU 4 or 5 depending on CONTENT)\n",
    "    header4 = hdul[4].header\n",
    "    if header4.get('CONTENT') == 'Final PSFs profiles':\n",
    "        profiles = hdul[4].data\n",
    "    else:\n",
    "        profiles = hdul[5].data\n",
    "\n",
    "    # Metadata\n",
    "    psf_header = hdul[1].header\n",
    "    wvl = float(psf_header.get(\"WL_NM\"))        # wavelength (nm)\n",
    "    pix_mas = float(psf_header.get(\"PIX_MAS\"))  # pixel scale (mas)\n",
    "\n",
    "    # ✅ corrected from original script:\n",
    "    sr_key   = f\"SR{0:04d}\"\n",
    "    fwhm_key = f\"FWHM{0:04d}\"\n",
    "    sr   = psf_header.get(sr_key)    # Strehl ratio\n",
    "    fwhm = psf_header.get(fwhm_key)  # FWHM (mas)\n",
    "    hdul.close()\n",
    "\n",
    "print(\"Pixel scale [mas]:\", pix_mas)\n",
    "print(\"Strehl Ratio:\", sr)\n",
    "print(\"FWHM [mas]:\", fwhm)\n",
    "print(\"Wvl [nm]:\", wvl)"
   ]
  },
  {
   "cell_type": "markdown",
   "id": "2d98641b",
   "metadata": {},
   "source": [
    "### E) Normalize PSFs and build axis in arcseconds"
   ]
  },
  {
   "cell_type": "code",
   "execution_count": 6,
   "id": "5c1df7db",
   "metadata": {},
   "outputs": [],
   "source": [
    "# %% Normalize\n",
    "psf_ao   = psf_ao / np.sum(psf_ao)\n",
    "psf_dl   = psf_dl / np.sum(psf_dl)\n",
    "psf_turb = psf_turb / np.sum(psf_turb)\n",
    "\n",
    "# Axis in arcsec\n",
    "nx = psf_ao.shape[0]\n",
    "axis = np.linspace(-nx//2, nx//2, nx) * pix_mas * 1e-3  # mas -> arcsec\n",
    "\n",
    "crop_size = 4\n",
    "nx = FourierUtils.cropSupport(psf_ao, crop_size).shape[0]\n",
    "axis = np.linspace(-nx//2, nx//2, nx) * pix_mas * 1e-3"
   ]
  },
  {
   "cell_type": "markdown",
   "id": "5fd81460",
   "metadata": {},
   "source": [
    "### F) Visualize PSFs (log scale)\n",
    "\n",
    "We adjust the dynamic range to display down to $10^{-5}$ of the maximum.\n"
   ]
  },
  {
   "cell_type": "code",
   "execution_count": 7,
   "id": "eaa73b0f",
   "metadata": {},
   "outputs": [],
   "source": [
    "# %% Plot PSFs\n",
    "def plot_psf(psf, title, position):\n",
    "    plt.subplot(1, 3, position)\n",
    "    im = plt.imshow(psf, norm=norm, cmap='Spectral_r',\n",
    "                    extent=[axis[0], axis[-1], axis[0], axis[-1]])\n",
    "    plt.title(title, pad=10)\n",
    "    plt.xlabel('[arcsec]')\n",
    "    if position == 1:\n",
    "        plt.ylabel('[arcsec]')\n",
    "    else:\n",
    "        plt.ylabel('')\n",
    "    plt.colorbar(im, fraction=0.046)"
   ]
  },
  {
   "cell_type": "code",
   "execution_count": null,
   "id": "3da81812",
   "metadata": {},
   "outputs": [],
   "source": [
    "psf_max = psf_ao.max()\n",
    "vmax = psf_max\n",
    "vmin = psf_max * 1e-4\n",
    "norm = LogNorm(vmin=vmin, vmax=vmax)\n",
    "rad2arcsec = 206265\n",
    "control_radius = ao.src.wvl/ao.tel.D*ao.dms.nActu1D[0]/2*rad2arcsec\n",
    "\n",
    "plt.figure(1, figsize=(20, 5))\n",
    "plt.suptitle(rf'$\\lambda_{{\\mathrm{{science}}}} = {int(wvl)}$ nm', y=1)\n",
    "plt.subplots_adjust(top=0.85)\n",
    "plot_psf(FourierUtils.cropSupport(psf_ao, crop_size),  f'AO (SR={sr*100:.1f}%, FWHM={fwhm:.1f} mas)', 1)\n",
    "corr_zone = Circle([0,0], control_radius, fc='none', ec='k', ls=':')\n",
    "plt.gca().add_artist(corr_zone)\n",
    "plot_psf(FourierUtils.cropSupport(psf_dl, crop_size),  'Diffraction', 2)\n",
    "plot_psf(FourierUtils.cropSupport(psf_turb, crop_size),'Open loop', 3)\n",
    "plt.show()"
   ]
  },
  {
   "cell_type": "markdown",
   "id": "1f9fb514",
   "metadata": {},
   "source": [
    "### G) Radial Profile (AO PSF) "
   ]
  },
  {
   "cell_type": "code",
   "execution_count": 9,
   "id": "dfdfedc2",
   "metadata": {},
   "outputs": [],
   "source": [
    "# Radial profile\n",
    "radii = profiles[0, 0, :]*1e-3\n",
    "p_norm = profiles[1, 0, :] / np.max(profiles[1, 0, :])"
   ]
  },
  {
   "cell_type": "code",
   "execution_count": null,
   "id": "1e5f7b30",
   "metadata": {},
   "outputs": [],
   "source": [
    "# Plots\n",
    "plt.figure(figsize=(8, 6))\n",
    "plt.title('PSF')\n",
    "plt.semilogy(radii, p_norm, label='AO profile')\n",
    "plt.axvline(control_radius, c='k', ls=':', label='Control radius AO')\n",
    "plt.xlabel('Radial distance (arcsec)')\n",
    "plt.ylabel('PSF profile (normalized)')\n",
    "plt.title(f'Radial profile - AO PSF - @{int(wvl)} nm')\n",
    "plt.legend()\n",
    "plt.grid(True, which='both', linestyle='--', linewidth=0.5, color='gray', alpha=0.7)\n",
    "\n",
    "plt.show()"
   ]
  },
  {
   "cell_type": "markdown",
   "id": "af8dfbbe",
   "metadata": {},
   "source": [
    "## 5) Error Budget Mini-Exercises \n",
    "\n",
    "These exercises explore the main contributions to the Adaptive Optics **error budget**: \n",
    "- Temporal error (servo-lag)  \n",
    "- Measurement noise (photon flux / WFS RON)  \n",
    "- Fitting error (DM actuator sampling)  \n",
    "- Atmospheric effects (seeing, wind speed)\n",
    "\n",
    "**Goal.** Explore how key parameters impact AO error terms and delivered image quality.\n",
    "\n",
    "---\n",
    "\n",
    "### Baseline\n",
    "Start from your **Papyrus baseline configuration**:  \n",
    "- Same seeing (r0), wind speed, telescope diameter, pixel scale, DM geometry.  \n",
    "- Keep everything fixed **except** the parameter under test.\n",
    "\n",
    "---"
   ]
  },
  {
   "cell_type": "markdown",
   "id": "5b58657c",
   "metadata": {},
   "source": [
    "### 1) **Temporal error**  \n",
    "\n",
    "> **Vary:** loop frame rate `RTC.FrameRate_HO`.  \n",
    "\n",
    "**Record:**\n",
    "- From TipTop’s error breakdown: **Spatio-temporal error** (nm RMS).\n",
    "- Overall **Strehl** and **FWHM**\n",
    "\n",
    "**Plot**\n",
    "- Strehl **vs** frame rate. \n",
    "- FWHM **vs** frame rate.\n",
    "\n",
    ">  ✍️ *What is the expected trend?*"
   ]
  },
  {
   "cell_type": "code",
   "execution_count": null,
   "id": "99ec5fea",
   "metadata": {},
   "outputs": [],
   "source": [
    "# Example test values (Hz)\n",
    "Frame_Rate = np.array([100, 300, 600, 900, 1200, 2000])\n",
    "\n",
    "# TODO: replace with your simulation results\n",
    "Strehl = np.array([0., 0., 0., 0., 0., 0.])*100\n",
    "FWHM   = np.array([0., 0., 0., 0., 0., 0.])   \n",
    "\n",
    "plt.figure(figsize=(10,4))\n",
    "plt.subplot(1,2,1)\n",
    "plt.plot(Frame_Rate, Strehl, 'o-')\n",
    "plt.xlabel(\"Frame Rate (Hz)\")\n",
    "plt.ylabel(\"Strehl (%)\")\n",
    "plt.grid(True)\n",
    "\n",
    "plt.subplot(1,2,2)\n",
    "plt.plot(Frame_Rate, FWHM, 'o-')\n",
    "plt.xlabel(\"Frame Rate (Hz)\")\n",
    "plt.ylabel(\"FWHM (mas)\")\n",
    "plt.grid(True)\n",
    "plt.show()\n"
   ]
  },
  {
   "cell_type": "markdown",
   "id": "33224c1d",
   "metadata": {},
   "source": [
    "**About the loop gain (optional):**  \n",
    "- Increasing **Loop Gain** enlarges the effective bandwidth → reduces servo-lag.  \n",
    "- Too low → under-correction.  \n",
    "- Too high → noise amplification / instability.  \n",
    "- Try sweeping `RTC.LoopGain_HO` between 0.2 and 0.8 (e.g. at 600 Hz)."
   ]
  },
  {
   "cell_type": "markdown",
   "id": "bb4625a5",
   "metadata": {},
   "source": [
    "### 2) **Measurement noise** \n",
    "- **Vary:** photon flux (`sensor_HO.NumberPhotons`) (or NGS magnitude) \n",
    "- *(Optional)* also vary WFS RON (`sensor_HO.SigmaRON`).  \n",
    " \n",
    "**Record:**  \n",
    "- From TipTop’s error breakdown: *Noise error* (nm RMS).  \n",
    "- Overall Strehl.\n",
    "\n",
    "**Plot:**  \n",
    "- Strehl vs photons (at fixed RON).  \n",
    "- *(Optional)* Strehl vs RON (at fixed photons). \n",
    "\n",
    "> ✍️ *What is the expected trend?*  "
   ]
  },
  {
   "cell_type": "code",
   "execution_count": null,
   "id": "adda6ff0",
   "metadata": {},
   "outputs": [],
   "source": [
    "Photons = np.array([1e2, 1e4, 1e5, 5e5, 1e6])  # TODO\n",
    "RON     = np.array([0.5, 1.0, 2.0, 5.0])       # TODO\n",
    "\n",
    "# TODO: fill with simulation results\n",
    "Strehl_vs_Photons = np.zeros_like(Photons)\n",
    "Strehl_vs_RON     = np.zeros_like(RON)\n",
    "\n",
    "plt.figure(figsize=(10,4))\n",
    "plt.subplot(1,2,1)\n",
    "plt.semilogx(Photons, Strehl_vs_Photons, 'o-')\n",
    "plt.xlabel(\"Photon flux\")\n",
    "plt.ylabel(\"Strehl (%)\")\n",
    "plt.grid(True)\n",
    "\n",
    "plt.subplot(1,2,2)\n",
    "plt.plot(RON, Strehl_vs_RON, 'o-')\n",
    "plt.xlabel(\"RON (e- rms)\")\n",
    "plt.ylabel(\"Strehl (%)\")\n",
    "plt.grid(True)\n",
    "plt.show()"
   ]
  },
  {
   "cell_type": "markdown",
   "id": "b827f00d",
   "metadata": {},
   "source": [
    "### 3) **Fitting error** \n",
    "- **Vary:** number of DM actuators across the pupil (`DM.NumberActuators`, e.g. 20, 30, 40, 56).  \n",
    "\n",
    "**Record:**  \n",
    "- From TipTop’s error breakdown: *Fitting error* (nm RMS).  \n",
    "- Overall Strehl.  \n",
    "\n",
    "**Plot:**  \n",
    "- Strehl vs number of actuators.  \n",
    "\n",
    "**Reminder:**  \n",
    "- The DM cut-off spatial frequency is approximately:  \n",
    "\n",
    "  $\n",
    "  f_\\mathrm{c} \\approx \\frac{N_\\mathrm{actu}}{2 \\, D} (\\text{cycles/m})\n",
    "  $ \n",
    "\n",
    "  where $N_\\mathrm{actu}$ is the number of actuators across the pupil diameter $D$.  \n",
    "- Increasing actuator density increases the DM cut-off frequency, improving correction of higher spatial frequencies.  \n",
    "\n",
    "> ✍️ *How does actuator density impact fitting error?*  \n"
   ]
  },
  {
   "cell_type": "code",
   "execution_count": null,
   "id": "525bfad4",
   "metadata": {},
   "outputs": [],
   "source": [
    "nActu = np.array([20, 30, 40, 56])\n",
    "\n",
    "# TODO: simulation results\n",
    "Strehl_vs_Actu = np.zeros_like(nActu, dtype=float)\n",
    "\n",
    "plt.figure()\n",
    "plt.plot(nActu, Strehl_vs_Actu, 'o-')\n",
    "plt.xlabel(\"DM actuators across pupil\")\n",
    "plt.ylabel(\"Strehl (%)\")\n",
    "plt.grid(True)\n",
    "plt.show()"
   ]
  },
  {
   "cell_type": "markdown",
   "id": "d86d3d2c",
   "metadata": {},
   "source": [
    "### 4) **Atmospheric effects** (seeing and wind)\n",
    "\n",
    "- **Vary:** seeing (`Seeing` or `r0_Value`) and *(Optional)* wind speed.  \n",
    "\n",
    "**Record:**  \n",
    "- Overall Strehl.  \n",
    "\n",
    "**Plot:**  \n",
    "- Strehl vs r0.\n",
    "- *(Optional)* Strehl vs wind.  \n",
    "\n",
    "> ✍️ *How do atmospheric conditions shape the AO error budget?* \n",
    "\n",
    "<!-- \n",
    "- *Expected:*  \n",
    "  - Larger r0 (better seeing) → higher Strehl  \n",
    "  - Stronger wind (shorter τ0) → worse temporal error   -->\n",
    "\n",
    "<!-- **Optional diagnostics**\n",
    "- Draw the **control radius** on the MTF (cycles/aperture or mas) and compare with trends above.\n",
    "- If available, save/inspect **phase PSD** to see which band (low/med/high f) is most impacted. -->"
   ]
  },
  {
   "cell_type": "code",
   "execution_count": null,
   "id": "e626026d",
   "metadata": {},
   "outputs": [],
   "source": [
    "r0_values   = np.array([0.1, 0.15, 0.2, 0.3])   # in m\n",
    "wind_speeds = np.array([5, 10, 20, 30])        # in m/s\n",
    "\n",
    "# TODO: simulation results\n",
    "Strehl_vs_r0   = np.zeros_like(r0_values)\n",
    "Strehl_vs_wind = np.zeros_like(wind_speeds)\n",
    "\n",
    "plt.figure(figsize=(10,4))\n",
    "plt.subplot(1,2,1)\n",
    "plt.plot(r0_values, Strehl_vs_r0, 'o-')\n",
    "plt.xlabel(\"r0 (m @ 500nm)\")\n",
    "plt.ylabel(\"Strehl (%)\")\n",
    "plt.grid(True)\n",
    "\n",
    "plt.subplot(1,2,2)\n",
    "plt.plot(wind_speeds, Strehl_vs_wind, 'o-')\n",
    "plt.xlabel(\"Wind speed (m/s)\")\n",
    "plt.ylabel(\"Strehl (%)\")\n",
    "plt.grid(True)\n",
    "plt.show()"
   ]
  },
  {
   "cell_type": "markdown",
   "id": "95429be7",
   "metadata": {},
   "source": [
    "**Reminder:**  \n",
    "- Larger r0 → weaker turbulence (better seeing).  \n",
    "- Wind speed defines the atmospheric coherence time:  \n",
    "\n",
    "  $\n",
    "  \\tau_0 \\approx 0.31 \\, \\frac{r_0}{v_\\mathrm{wind}}\n",
    " $\n",
    "\n",
    "  Shorter $\\tau_0$ (stronger wind or poor seeing) makes temporal error worse.\n"
   ]
  }
 ],
 "metadata": {
  "kernelspec": {
   "display_name": "astro-tiptop_env",
   "language": "python",
   "name": "python3"
  },
  "language_info": {
   "codemirror_mode": {
    "name": "ipython",
    "version": 3
   },
   "file_extension": ".py",
   "mimetype": "text/x-python",
   "name": "python",
   "nbconvert_exporter": "python",
   "pygments_lexer": "ipython3",
   "version": "3.12.3"
  }
 },
 "nbformat": 4,
 "nbformat_minor": 5
}
